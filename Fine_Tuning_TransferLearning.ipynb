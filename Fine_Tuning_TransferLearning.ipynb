{
  "nbformat": 4,
  "nbformat_minor": 0,
  "metadata": {
    "colab": {
      "provenance": [],
      "include_colab_link": true
    },
    "kernelspec": {
      "name": "python3",
      "display_name": "Python 3"
    },
    "language_info": {
      "name": "python"
    },
    "accelerator": "GPU",
    "gpuClass": "standard"
  },
  "cells": [
    {
      "cell_type": "markdown",
      "metadata": {
        "id": "view-in-github",
        "colab_type": "text"
      },
      "source": [
        "<a href=\"https://colab.research.google.com/github/josephgeorgeMLDL1/TransferLearning_Xception_Finetuning1_somelayers/blob/main/Fine_Tuning_TransferLearning.ipynb\" target=\"_parent\"><img src=\"https://colab.research.google.com/assets/colab-badge.svg\" alt=\"Open In Colab\"/></a>"
      ]
    },
    {
      "cell_type": "code",
      "execution_count": 1,
      "metadata": {
        "colab": {
          "base_uri": "https://localhost:8080/"
        },
        "id": "9rHQttVnWpiN",
        "outputId": "63519471-616b-40e9-d558-1efbbde95571"
      },
      "outputs": [
        {
          "output_type": "stream",
          "name": "stdout",
          "text": [
            "Mounted at /content/drive\n"
          ]
        }
      ],
      "source": [
        "from google.colab import drive\n",
        "drive.mount('/content/drive')"
      ]
    },
    {
      "cell_type": "code",
      "source": [
        "import tensorflow as tf\n",
        "print(tf.__version__)\n",
        "\n",
        "from tensorflow import keras\n",
        "tf.random.set_seed(42)\n",
        "\n",
        "import numpy as np\n",
        "np.random.seed(42)\n",
        "\n",
        "import matplotlib.pyplot as plt\n",
        "%matplotlib inline"
      ],
      "metadata": {
        "colab": {
          "base_uri": "https://localhost:8080/"
        },
        "id": "XMUAmeMmW2UR",
        "outputId": "40e485f1-f298-4898-80d8-2ebb9a933898"
      },
      "execution_count": 2,
      "outputs": [
        {
          "output_type": "stream",
          "name": "stdout",
          "text": [
            "2.9.2\n"
          ]
        }
      ]
    },
    {
      "cell_type": "code",
      "source": [
        "# load numpy array from npy file\n",
        "from numpy import load\n",
        "\n",
        "X_train_std = load('/content/drive/MyDrive/DeepLearning/TransferLearning/Models/X_train_std.npy')\n",
        "X_test_std = load('/content/drive/MyDrive/DeepLearning/TransferLearning/Models/X_test_std.npy')\n",
        "\n",
        "y_train = load('/content/drive/MyDrive/DeepLearning/TransferLearning/Models/y_train.npy')\n",
        "y_test = load('/content/drive/MyDrive/DeepLearning/TransferLearning/Models/y_test.npy')"
      ],
      "metadata": {
        "id": "BfOvx4J1W2Xn"
      },
      "execution_count": 3,
      "outputs": []
    },
    {
      "cell_type": "code",
      "source": [
        "print(\"X_train_std_shape: {}\".format(X_train_std.shape))\n",
        "print(\"X_test_std_shape: {}\".format(X_test_std.shape))"
      ],
      "metadata": {
        "id": "l4m4DWxrW2av",
        "colab": {
          "base_uri": "https://localhost:8080/"
        },
        "outputId": "6d0cfb9e-1310-4780-a38a-3a151e775988"
      },
      "execution_count": 4,
      "outputs": [
        {
          "output_type": "stream",
          "name": "stdout",
          "text": [
            "X_train_std_shape: (400, 299, 299, 3)\n",
            "X_test_std_shape: (100, 299, 299, 3)\n"
          ]
        }
      ]
    },
    {
      "cell_type": "code",
      "source": [
        "model_FineTune = keras.models.load_model('/content/drive/MyDrive/DeepLearning/TransferLearning/Models/01_Xception_TransferLearning_Best_Model.h5')"
      ],
      "metadata": {
        "id": "UdIrzhorW2dj"
      },
      "execution_count": 5,
      "outputs": []
    },
    {
      "cell_type": "code",
      "source": [
        "model_FineTune.summary()"
      ],
      "metadata": {
        "id": "upZkcGbVW2i4",
        "colab": {
          "base_uri": "https://localhost:8080/"
        },
        "outputId": "cebabe21-873e-466e-c827-75c2c5dd4bce"
      },
      "execution_count": 6,
      "outputs": [
        {
          "output_type": "stream",
          "name": "stdout",
          "text": [
            "Model: \"model\"\n",
            "__________________________________________________________________________________________________\n",
            " Layer (type)                   Output Shape         Param #     Connected to                     \n",
            "==================================================================================================\n",
            " input_5 (InputLayer)           [(None, None, None,  0           []                               \n",
            "                                 3)]                                                              \n",
            "                                                                                                  \n",
            " block1_conv1 (Conv2D)          (None, None, None,   864         ['input_5[0][0]']                \n",
            "                                32)                                                               \n",
            "                                                                                                  \n",
            " block1_conv1_bn (BatchNormaliz  (None, None, None,   128        ['block1_conv1[0][0]']           \n",
            " ation)                         32)                                                               \n",
            "                                                                                                  \n",
            " block1_conv1_act (Activation)  (None, None, None,   0           ['block1_conv1_bn[0][0]']        \n",
            "                                32)                                                               \n",
            "                                                                                                  \n",
            " block1_conv2 (Conv2D)          (None, None, None,   18432       ['block1_conv1_act[0][0]']       \n",
            "                                64)                                                               \n",
            "                                                                                                  \n",
            " block1_conv2_bn (BatchNormaliz  (None, None, None,   256        ['block1_conv2[0][0]']           \n",
            " ation)                         64)                                                               \n",
            "                                                                                                  \n",
            " block1_conv2_act (Activation)  (None, None, None,   0           ['block1_conv2_bn[0][0]']        \n",
            "                                64)                                                               \n",
            "                                                                                                  \n",
            " block2_sepconv1 (SeparableConv  (None, None, None,   8768       ['block1_conv2_act[0][0]']       \n",
            " 2D)                            128)                                                              \n",
            "                                                                                                  \n",
            " block2_sepconv1_bn (BatchNorma  (None, None, None,   512        ['block2_sepconv1[0][0]']        \n",
            " lization)                      128)                                                              \n",
            "                                                                                                  \n",
            " block2_sepconv2_act (Activatio  (None, None, None,   0          ['block2_sepconv1_bn[0][0]']     \n",
            " n)                             128)                                                              \n",
            "                                                                                                  \n",
            " block2_sepconv2 (SeparableConv  (None, None, None,   17536      ['block2_sepconv2_act[0][0]']    \n",
            " 2D)                            128)                                                              \n",
            "                                                                                                  \n",
            " block2_sepconv2_bn (BatchNorma  (None, None, None,   512        ['block2_sepconv2[0][0]']        \n",
            " lization)                      128)                                                              \n",
            "                                                                                                  \n",
            " conv2d_16 (Conv2D)             (None, None, None,   8192        ['block1_conv2_act[0][0]']       \n",
            "                                128)                                                              \n",
            "                                                                                                  \n",
            " block2_pool (MaxPooling2D)     (None, None, None,   0           ['block2_sepconv2_bn[0][0]']     \n",
            "                                128)                                                              \n",
            "                                                                                                  \n",
            " batch_normalization_16 (BatchN  (None, None, None,   512        ['conv2d_16[0][0]']              \n",
            " ormalization)                  128)                                                              \n",
            "                                                                                                  \n",
            " add_48 (Add)                   (None, None, None,   0           ['block2_pool[0][0]',            \n",
            "                                128)                              'batch_normalization_16[0][0]'] \n",
            "                                                                                                  \n",
            " block3_sepconv1_act (Activatio  (None, None, None,   0          ['add_48[0][0]']                 \n",
            " n)                             128)                                                              \n",
            "                                                                                                  \n",
            " block3_sepconv1 (SeparableConv  (None, None, None,   33920      ['block3_sepconv1_act[0][0]']    \n",
            " 2D)                            256)                                                              \n",
            "                                                                                                  \n",
            " block3_sepconv1_bn (BatchNorma  (None, None, None,   1024       ['block3_sepconv1[0][0]']        \n",
            " lization)                      256)                                                              \n",
            "                                                                                                  \n",
            " block3_sepconv2_act (Activatio  (None, None, None,   0          ['block3_sepconv1_bn[0][0]']     \n",
            " n)                             256)                                                              \n",
            "                                                                                                  \n",
            " block3_sepconv2 (SeparableConv  (None, None, None,   67840      ['block3_sepconv2_act[0][0]']    \n",
            " 2D)                            256)                                                              \n",
            "                                                                                                  \n",
            " block3_sepconv2_bn (BatchNorma  (None, None, None,   1024       ['block3_sepconv2[0][0]']        \n",
            " lization)                      256)                                                              \n",
            "                                                                                                  \n",
            " conv2d_17 (Conv2D)             (None, None, None,   32768       ['add_48[0][0]']                 \n",
            "                                256)                                                              \n",
            "                                                                                                  \n",
            " block3_pool (MaxPooling2D)     (None, None, None,   0           ['block3_sepconv2_bn[0][0]']     \n",
            "                                256)                                                              \n",
            "                                                                                                  \n",
            " batch_normalization_17 (BatchN  (None, None, None,   1024       ['conv2d_17[0][0]']              \n",
            " ormalization)                  256)                                                              \n",
            "                                                                                                  \n",
            " add_49 (Add)                   (None, None, None,   0           ['block3_pool[0][0]',            \n",
            "                                256)                              'batch_normalization_17[0][0]'] \n",
            "                                                                                                  \n",
            " block4_sepconv1_act (Activatio  (None, None, None,   0          ['add_49[0][0]']                 \n",
            " n)                             256)                                                              \n",
            "                                                                                                  \n",
            " block4_sepconv1 (SeparableConv  (None, None, None,   188672     ['block4_sepconv1_act[0][0]']    \n",
            " 2D)                            728)                                                              \n",
            "                                                                                                  \n",
            " block4_sepconv1_bn (BatchNorma  (None, None, None,   2912       ['block4_sepconv1[0][0]']        \n",
            " lization)                      728)                                                              \n",
            "                                                                                                  \n",
            " block4_sepconv2_act (Activatio  (None, None, None,   0          ['block4_sepconv1_bn[0][0]']     \n",
            " n)                             728)                                                              \n",
            "                                                                                                  \n",
            " block4_sepconv2 (SeparableConv  (None, None, None,   536536     ['block4_sepconv2_act[0][0]']    \n",
            " 2D)                            728)                                                              \n",
            "                                                                                                  \n",
            " block4_sepconv2_bn (BatchNorma  (None, None, None,   2912       ['block4_sepconv2[0][0]']        \n",
            " lization)                      728)                                                              \n",
            "                                                                                                  \n",
            " conv2d_18 (Conv2D)             (None, None, None,   186368      ['add_49[0][0]']                 \n",
            "                                728)                                                              \n",
            "                                                                                                  \n",
            " block4_pool (MaxPooling2D)     (None, None, None,   0           ['block4_sepconv2_bn[0][0]']     \n",
            "                                728)                                                              \n",
            "                                                                                                  \n",
            " batch_normalization_18 (BatchN  (None, None, None,   2912       ['conv2d_18[0][0]']              \n",
            " ormalization)                  728)                                                              \n",
            "                                                                                                  \n",
            " add_50 (Add)                   (None, None, None,   0           ['block4_pool[0][0]',            \n",
            "                                728)                              'batch_normalization_18[0][0]'] \n",
            "                                                                                                  \n",
            " block5_sepconv1_act (Activatio  (None, None, None,   0          ['add_50[0][0]']                 \n",
            " n)                             728)                                                              \n",
            "                                                                                                  \n",
            " block5_sepconv1 (SeparableConv  (None, None, None,   536536     ['block5_sepconv1_act[0][0]']    \n",
            " 2D)                            728)                                                              \n",
            "                                                                                                  \n",
            " block5_sepconv1_bn (BatchNorma  (None, None, None,   2912       ['block5_sepconv1[0][0]']        \n",
            " lization)                      728)                                                              \n",
            "                                                                                                  \n",
            " block5_sepconv2_act (Activatio  (None, None, None,   0          ['block5_sepconv1_bn[0][0]']     \n",
            " n)                             728)                                                              \n",
            "                                                                                                  \n",
            " block5_sepconv2 (SeparableConv  (None, None, None,   536536     ['block5_sepconv2_act[0][0]']    \n",
            " 2D)                            728)                                                              \n",
            "                                                                                                  \n",
            " block5_sepconv2_bn (BatchNorma  (None, None, None,   2912       ['block5_sepconv2[0][0]']        \n",
            " lization)                      728)                                                              \n",
            "                                                                                                  \n",
            " block5_sepconv3_act (Activatio  (None, None, None,   0          ['block5_sepconv2_bn[0][0]']     \n",
            " n)                             728)                                                              \n",
            "                                                                                                  \n",
            " block5_sepconv3 (SeparableConv  (None, None, None,   536536     ['block5_sepconv3_act[0][0]']    \n",
            " 2D)                            728)                                                              \n",
            "                                                                                                  \n",
            " block5_sepconv3_bn (BatchNorma  (None, None, None,   2912       ['block5_sepconv3[0][0]']        \n",
            " lization)                      728)                                                              \n",
            "                                                                                                  \n",
            " add_51 (Add)                   (None, None, None,   0           ['block5_sepconv3_bn[0][0]',     \n",
            "                                728)                              'add_50[0][0]']                 \n",
            "                                                                                                  \n",
            " block6_sepconv1_act (Activatio  (None, None, None,   0          ['add_51[0][0]']                 \n",
            " n)                             728)                                                              \n",
            "                                                                                                  \n",
            " block6_sepconv1 (SeparableConv  (None, None, None,   536536     ['block6_sepconv1_act[0][0]']    \n",
            " 2D)                            728)                                                              \n",
            "                                                                                                  \n",
            " block6_sepconv1_bn (BatchNorma  (None, None, None,   2912       ['block6_sepconv1[0][0]']        \n",
            " lization)                      728)                                                              \n",
            "                                                                                                  \n",
            " block6_sepconv2_act (Activatio  (None, None, None,   0          ['block6_sepconv1_bn[0][0]']     \n",
            " n)                             728)                                                              \n",
            "                                                                                                  \n",
            " block6_sepconv2 (SeparableConv  (None, None, None,   536536     ['block6_sepconv2_act[0][0]']    \n",
            " 2D)                            728)                                                              \n",
            "                                                                                                  \n",
            " block6_sepconv2_bn (BatchNorma  (None, None, None,   2912       ['block6_sepconv2[0][0]']        \n",
            " lization)                      728)                                                              \n",
            "                                                                                                  \n",
            " block6_sepconv3_act (Activatio  (None, None, None,   0          ['block6_sepconv2_bn[0][0]']     \n",
            " n)                             728)                                                              \n",
            "                                                                                                  \n",
            " block6_sepconv3 (SeparableConv  (None, None, None,   536536     ['block6_sepconv3_act[0][0]']    \n",
            " 2D)                            728)                                                              \n",
            "                                                                                                  \n",
            " block6_sepconv3_bn (BatchNorma  (None, None, None,   2912       ['block6_sepconv3[0][0]']        \n",
            " lization)                      728)                                                              \n",
            "                                                                                                  \n",
            " add_52 (Add)                   (None, None, None,   0           ['block6_sepconv3_bn[0][0]',     \n",
            "                                728)                              'add_51[0][0]']                 \n",
            "                                                                                                  \n",
            " block7_sepconv1_act (Activatio  (None, None, None,   0          ['add_52[0][0]']                 \n",
            " n)                             728)                                                              \n",
            "                                                                                                  \n",
            " block7_sepconv1 (SeparableConv  (None, None, None,   536536     ['block7_sepconv1_act[0][0]']    \n",
            " 2D)                            728)                                                              \n",
            "                                                                                                  \n",
            " block7_sepconv1_bn (BatchNorma  (None, None, None,   2912       ['block7_sepconv1[0][0]']        \n",
            " lization)                      728)                                                              \n",
            "                                                                                                  \n",
            " block7_sepconv2_act (Activatio  (None, None, None,   0          ['block7_sepconv1_bn[0][0]']     \n",
            " n)                             728)                                                              \n",
            "                                                                                                  \n",
            " block7_sepconv2 (SeparableConv  (None, None, None,   536536     ['block7_sepconv2_act[0][0]']    \n",
            " 2D)                            728)                                                              \n",
            "                                                                                                  \n",
            " block7_sepconv2_bn (BatchNorma  (None, None, None,   2912       ['block7_sepconv2[0][0]']        \n",
            " lization)                      728)                                                              \n",
            "                                                                                                  \n",
            " block7_sepconv3_act (Activatio  (None, None, None,   0          ['block7_sepconv2_bn[0][0]']     \n",
            " n)                             728)                                                              \n",
            "                                                                                                  \n",
            " block7_sepconv3 (SeparableConv  (None, None, None,   536536     ['block7_sepconv3_act[0][0]']    \n",
            " 2D)                            728)                                                              \n",
            "                                                                                                  \n",
            " block7_sepconv3_bn (BatchNorma  (None, None, None,   2912       ['block7_sepconv3[0][0]']        \n",
            " lization)                      728)                                                              \n",
            "                                                                                                  \n",
            " add_53 (Add)                   (None, None, None,   0           ['block7_sepconv3_bn[0][0]',     \n",
            "                                728)                              'add_52[0][0]']                 \n",
            "                                                                                                  \n",
            " block8_sepconv1_act (Activatio  (None, None, None,   0          ['add_53[0][0]']                 \n",
            " n)                             728)                                                              \n",
            "                                                                                                  \n",
            " block8_sepconv1 (SeparableConv  (None, None, None,   536536     ['block8_sepconv1_act[0][0]']    \n",
            " 2D)                            728)                                                              \n",
            "                                                                                                  \n",
            " block8_sepconv1_bn (BatchNorma  (None, None, None,   2912       ['block8_sepconv1[0][0]']        \n",
            " lization)                      728)                                                              \n",
            "                                                                                                  \n",
            " block8_sepconv2_act (Activatio  (None, None, None,   0          ['block8_sepconv1_bn[0][0]']     \n",
            " n)                             728)                                                              \n",
            "                                                                                                  \n",
            " block8_sepconv2 (SeparableConv  (None, None, None,   536536     ['block8_sepconv2_act[0][0]']    \n",
            " 2D)                            728)                                                              \n",
            "                                                                                                  \n",
            " block8_sepconv2_bn (BatchNorma  (None, None, None,   2912       ['block8_sepconv2[0][0]']        \n",
            " lization)                      728)                                                              \n",
            "                                                                                                  \n",
            " block8_sepconv3_act (Activatio  (None, None, None,   0          ['block8_sepconv2_bn[0][0]']     \n",
            " n)                             728)                                                              \n",
            "                                                                                                  \n",
            " block8_sepconv3 (SeparableConv  (None, None, None,   536536     ['block8_sepconv3_act[0][0]']    \n",
            " 2D)                            728)                                                              \n",
            "                                                                                                  \n",
            " block8_sepconv3_bn (BatchNorma  (None, None, None,   2912       ['block8_sepconv3[0][0]']        \n",
            " lization)                      728)                                                              \n",
            "                                                                                                  \n",
            " add_54 (Add)                   (None, None, None,   0           ['block8_sepconv3_bn[0][0]',     \n",
            "                                728)                              'add_53[0][0]']                 \n",
            "                                                                                                  \n",
            " block9_sepconv1_act (Activatio  (None, None, None,   0          ['add_54[0][0]']                 \n",
            " n)                             728)                                                              \n",
            "                                                                                                  \n",
            " block9_sepconv1 (SeparableConv  (None, None, None,   536536     ['block9_sepconv1_act[0][0]']    \n",
            " 2D)                            728)                                                              \n",
            "                                                                                                  \n",
            " block9_sepconv1_bn (BatchNorma  (None, None, None,   2912       ['block9_sepconv1[0][0]']        \n",
            " lization)                      728)                                                              \n",
            "                                                                                                  \n",
            " block9_sepconv2_act (Activatio  (None, None, None,   0          ['block9_sepconv1_bn[0][0]']     \n",
            " n)                             728)                                                              \n",
            "                                                                                                  \n",
            " block9_sepconv2 (SeparableConv  (None, None, None,   536536     ['block9_sepconv2_act[0][0]']    \n",
            " 2D)                            728)                                                              \n",
            "                                                                                                  \n",
            " block9_sepconv2_bn (BatchNorma  (None, None, None,   2912       ['block9_sepconv2[0][0]']        \n",
            " lization)                      728)                                                              \n",
            "                                                                                                  \n",
            " block9_sepconv3_act (Activatio  (None, None, None,   0          ['block9_sepconv2_bn[0][0]']     \n",
            " n)                             728)                                                              \n",
            "                                                                                                  \n",
            " block9_sepconv3 (SeparableConv  (None, None, None,   536536     ['block9_sepconv3_act[0][0]']    \n",
            " 2D)                            728)                                                              \n",
            "                                                                                                  \n",
            " block9_sepconv3_bn (BatchNorma  (None, None, None,   2912       ['block9_sepconv3[0][0]']        \n",
            " lization)                      728)                                                              \n",
            "                                                                                                  \n",
            " add_55 (Add)                   (None, None, None,   0           ['block9_sepconv3_bn[0][0]',     \n",
            "                                728)                              'add_54[0][0]']                 \n",
            "                                                                                                  \n",
            " block10_sepconv1_act (Activati  (None, None, None,   0          ['add_55[0][0]']                 \n",
            " on)                            728)                                                              \n",
            "                                                                                                  \n",
            " block10_sepconv1 (SeparableCon  (None, None, None,   536536     ['block10_sepconv1_act[0][0]']   \n",
            " v2D)                           728)                                                              \n",
            "                                                                                                  \n",
            " block10_sepconv1_bn (BatchNorm  (None, None, None,   2912       ['block10_sepconv1[0][0]']       \n",
            " alization)                     728)                                                              \n",
            "                                                                                                  \n",
            " block10_sepconv2_act (Activati  (None, None, None,   0          ['block10_sepconv1_bn[0][0]']    \n",
            " on)                            728)                                                              \n",
            "                                                                                                  \n",
            " block10_sepconv2 (SeparableCon  (None, None, None,   536536     ['block10_sepconv2_act[0][0]']   \n",
            " v2D)                           728)                                                              \n",
            "                                                                                                  \n",
            " block10_sepconv2_bn (BatchNorm  (None, None, None,   2912       ['block10_sepconv2[0][0]']       \n",
            " alization)                     728)                                                              \n",
            "                                                                                                  \n",
            " block10_sepconv3_act (Activati  (None, None, None,   0          ['block10_sepconv2_bn[0][0]']    \n",
            " on)                            728)                                                              \n",
            "                                                                                                  \n",
            " block10_sepconv3 (SeparableCon  (None, None, None,   536536     ['block10_sepconv3_act[0][0]']   \n",
            " v2D)                           728)                                                              \n",
            "                                                                                                  \n",
            " block10_sepconv3_bn (BatchNorm  (None, None, None,   2912       ['block10_sepconv3[0][0]']       \n",
            " alization)                     728)                                                              \n",
            "                                                                                                  \n",
            " add_56 (Add)                   (None, None, None,   0           ['block10_sepconv3_bn[0][0]',    \n",
            "                                728)                              'add_55[0][0]']                 \n",
            "                                                                                                  \n",
            " block11_sepconv1_act (Activati  (None, None, None,   0          ['add_56[0][0]']                 \n",
            " on)                            728)                                                              \n",
            "                                                                                                  \n",
            " block11_sepconv1 (SeparableCon  (None, None, None,   536536     ['block11_sepconv1_act[0][0]']   \n",
            " v2D)                           728)                                                              \n",
            "                                                                                                  \n",
            " block11_sepconv1_bn (BatchNorm  (None, None, None,   2912       ['block11_sepconv1[0][0]']       \n",
            " alization)                     728)                                                              \n",
            "                                                                                                  \n",
            " block11_sepconv2_act (Activati  (None, None, None,   0          ['block11_sepconv1_bn[0][0]']    \n",
            " on)                            728)                                                              \n",
            "                                                                                                  \n",
            " block11_sepconv2 (SeparableCon  (None, None, None,   536536     ['block11_sepconv2_act[0][0]']   \n",
            " v2D)                           728)                                                              \n",
            "                                                                                                  \n",
            " block11_sepconv2_bn (BatchNorm  (None, None, None,   2912       ['block11_sepconv2[0][0]']       \n",
            " alization)                     728)                                                              \n",
            "                                                                                                  \n",
            " block11_sepconv3_act (Activati  (None, None, None,   0          ['block11_sepconv2_bn[0][0]']    \n",
            " on)                            728)                                                              \n",
            "                                                                                                  \n",
            " block11_sepconv3 (SeparableCon  (None, None, None,   536536     ['block11_sepconv3_act[0][0]']   \n",
            " v2D)                           728)                                                              \n",
            "                                                                                                  \n",
            " block11_sepconv3_bn (BatchNorm  (None, None, None,   2912       ['block11_sepconv3[0][0]']       \n",
            " alization)                     728)                                                              \n",
            "                                                                                                  \n",
            " add_57 (Add)                   (None, None, None,   0           ['block11_sepconv3_bn[0][0]',    \n",
            "                                728)                              'add_56[0][0]']                 \n",
            "                                                                                                  \n",
            " block12_sepconv1_act (Activati  (None, None, None,   0          ['add_57[0][0]']                 \n",
            " on)                            728)                                                              \n",
            "                                                                                                  \n",
            " block12_sepconv1 (SeparableCon  (None, None, None,   536536     ['block12_sepconv1_act[0][0]']   \n",
            " v2D)                           728)                                                              \n",
            "                                                                                                  \n",
            " block12_sepconv1_bn (BatchNorm  (None, None, None,   2912       ['block12_sepconv1[0][0]']       \n",
            " alization)                     728)                                                              \n",
            "                                                                                                  \n",
            " block12_sepconv2_act (Activati  (None, None, None,   0          ['block12_sepconv1_bn[0][0]']    \n",
            " on)                            728)                                                              \n",
            "                                                                                                  \n",
            " block12_sepconv2 (SeparableCon  (None, None, None,   536536     ['block12_sepconv2_act[0][0]']   \n",
            " v2D)                           728)                                                              \n",
            "                                                                                                  \n",
            " block12_sepconv2_bn (BatchNorm  (None, None, None,   2912       ['block12_sepconv2[0][0]']       \n",
            " alization)                     728)                                                              \n",
            "                                                                                                  \n",
            " block12_sepconv3_act (Activati  (None, None, None,   0          ['block12_sepconv2_bn[0][0]']    \n",
            " on)                            728)                                                              \n",
            "                                                                                                  \n",
            " block12_sepconv3 (SeparableCon  (None, None, None,   536536     ['block12_sepconv3_act[0][0]']   \n",
            " v2D)                           728)                                                              \n",
            "                                                                                                  \n",
            " block12_sepconv3_bn (BatchNorm  (None, None, None,   2912       ['block12_sepconv3[0][0]']       \n",
            " alization)                     728)                                                              \n",
            "                                                                                                  \n",
            " add_58 (Add)                   (None, None, None,   0           ['block12_sepconv3_bn[0][0]',    \n",
            "                                728)                              'add_57[0][0]']                 \n",
            "                                                                                                  \n",
            " block13_sepconv1_act (Activati  (None, None, None,   0          ['add_58[0][0]']                 \n",
            " on)                            728)                                                              \n",
            "                                                                                                  \n",
            " block13_sepconv1 (SeparableCon  (None, None, None,   536536     ['block13_sepconv1_act[0][0]']   \n",
            " v2D)                           728)                                                              \n",
            "                                                                                                  \n",
            " block13_sepconv1_bn (BatchNorm  (None, None, None,   2912       ['block13_sepconv1[0][0]']       \n",
            " alization)                     728)                                                              \n",
            "                                                                                                  \n",
            " block13_sepconv2_act (Activati  (None, None, None,   0          ['block13_sepconv1_bn[0][0]']    \n",
            " on)                            728)                                                              \n",
            "                                                                                                  \n",
            " block13_sepconv2 (SeparableCon  (None, None, None,   752024     ['block13_sepconv2_act[0][0]']   \n",
            " v2D)                           1024)                                                             \n",
            "                                                                                                  \n",
            " block13_sepconv2_bn (BatchNorm  (None, None, None,   4096       ['block13_sepconv2[0][0]']       \n",
            " alization)                     1024)                                                             \n",
            "                                                                                                  \n",
            " conv2d_19 (Conv2D)             (None, None, None,   745472      ['add_58[0][0]']                 \n",
            "                                1024)                                                             \n",
            "                                                                                                  \n",
            " block13_pool (MaxPooling2D)    (None, None, None,   0           ['block13_sepconv2_bn[0][0]']    \n",
            "                                1024)                                                             \n",
            "                                                                                                  \n",
            " batch_normalization_19 (BatchN  (None, None, None,   4096       ['conv2d_19[0][0]']              \n",
            " ormalization)                  1024)                                                             \n",
            "                                                                                                  \n",
            " add_59 (Add)                   (None, None, None,   0           ['block13_pool[0][0]',           \n",
            "                                1024)                             'batch_normalization_19[0][0]'] \n",
            "                                                                                                  \n",
            " block14_sepconv1 (SeparableCon  (None, None, None,   1582080    ['add_59[0][0]']                 \n",
            " v2D)                           1536)                                                             \n",
            "                                                                                                  \n",
            " block14_sepconv1_bn (BatchNorm  (None, None, None,   6144       ['block14_sepconv1[0][0]']       \n",
            " alization)                     1536)                                                             \n",
            "                                                                                                  \n",
            " block14_sepconv1_act (Activati  (None, None, None,   0          ['block14_sepconv1_bn[0][0]']    \n",
            " on)                            1536)                                                             \n",
            "                                                                                                  \n",
            " block14_sepconv2 (SeparableCon  (None, None, None,   3159552    ['block14_sepconv1_act[0][0]']   \n",
            " v2D)                           2048)                                                             \n",
            "                                                                                                  \n",
            " block14_sepconv2_bn (BatchNorm  (None, None, None,   8192       ['block14_sepconv2[0][0]']       \n",
            " alization)                     2048)                                                             \n",
            "                                                                                                  \n",
            " block14_sepconv2_act (Activati  (None, None, None,   0          ['block14_sepconv2_bn[0][0]']    \n",
            " on)                            2048)                                                             \n",
            "                                                                                                  \n",
            " global_average_pooling2d (Glob  (None, 2048)        0           ['block14_sepconv2_act[0][0]']   \n",
            " alAveragePooling2D)                                                                              \n",
            "                                                                                                  \n",
            " dense (Dense)                  (None, 5)            10245       ['global_average_pooling2d[0][0]'\n",
            "                                                                 ]                                \n",
            "                                                                                                  \n",
            "==================================================================================================\n",
            "Total params: 20,871,725\n",
            "Trainable params: 20,817,197\n",
            "Non-trainable params: 54,528\n",
            "__________________________________________________________________________________________________\n"
          ]
        }
      ]
    },
    {
      "cell_type": "code",
      "source": [
        "model_FineTune.layers"
      ],
      "metadata": {
        "id": "EWhVn3R0W2lv",
        "colab": {
          "base_uri": "https://localhost:8080/"
        },
        "outputId": "0059c62c-c307-4890-d2ff-3a3c76627063"
      },
      "execution_count": 7,
      "outputs": [
        {
          "output_type": "execute_result",
          "data": {
            "text/plain": [
              "[<keras.engine.input_layer.InputLayer at 0x7fc8a35d5670>,\n",
              " <keras.layers.convolutional.conv2d.Conv2D at 0x7fc8a35b2430>,\n",
              " <keras.layers.normalization.batch_normalization.BatchNormalization at 0x7fc8a35b25b0>,\n",
              " <keras.layers.core.activation.Activation at 0x7fc83e790550>,\n",
              " <keras.layers.convolutional.conv2d.Conv2D at 0x7fc8a35b2880>,\n",
              " <keras.layers.normalization.batch_normalization.BatchNormalization at 0x7fc83e790b50>,\n",
              " <keras.layers.core.activation.Activation at 0x7fc83e790940>,\n",
              " <keras.layers.convolutional.separable_conv2d.SeparableConv2D at 0x7fc83e7909d0>,\n",
              " <keras.layers.normalization.batch_normalization.BatchNormalization at 0x7fc83e6e7cd0>,\n",
              " <keras.layers.core.activation.Activation at 0x7fc83e6e7c10>,\n",
              " <keras.layers.convolutional.separable_conv2d.SeparableConv2D at 0x7fc8a6e896d0>,\n",
              " <keras.layers.normalization.batch_normalization.BatchNormalization at 0x7fc83e6ed9d0>,\n",
              " <keras.layers.convolutional.conv2d.Conv2D at 0x7fc83e6eda90>,\n",
              " <keras.layers.pooling.max_pooling2d.MaxPooling2D at 0x7fc83e6ed1f0>,\n",
              " <keras.layers.normalization.batch_normalization.BatchNormalization at 0x7fc83e6f85b0>,\n",
              " <keras.layers.merging.add.Add at 0x7fc83e6f86a0>,\n",
              " <keras.layers.core.activation.Activation at 0x7fc83e6f8b20>,\n",
              " <keras.layers.convolutional.separable_conv2d.SeparableConv2D at 0x7fc83e6f8b80>,\n",
              " <keras.layers.normalization.batch_normalization.BatchNormalization at 0x7fc83e6fe4c0>,\n",
              " <keras.layers.core.activation.Activation at 0x7fc83e6fe400>,\n",
              " <keras.layers.convolutional.separable_conv2d.SeparableConv2D at 0x7fc83e6fea00>,\n",
              " <keras.layers.normalization.batch_normalization.BatchNormalization at 0x7fc83e6fe580>,\n",
              " <keras.layers.convolutional.conv2d.Conv2D at 0x7fc83e7002b0>,\n",
              " <keras.layers.pooling.max_pooling2d.MaxPooling2D at 0x7fc83e700700>,\n",
              " <keras.layers.normalization.batch_normalization.BatchNormalization at 0x7fc83e700d90>,\n",
              " <keras.layers.merging.add.Add at 0x7fc83e700e80>,\n",
              " <keras.layers.core.activation.Activation at 0x7fc83e706340>,\n",
              " <keras.layers.convolutional.separable_conv2d.SeparableConv2D at 0x7fc83e7063a0>,\n",
              " <keras.layers.normalization.batch_normalization.BatchNormalization at 0x7fc83e706ca0>,\n",
              " <keras.layers.core.activation.Activation at 0x7fc83e706be0>,\n",
              " <keras.layers.convolutional.separable_conv2d.SeparableConv2D at 0x7fc83e706d60>,\n",
              " <keras.layers.normalization.batch_normalization.BatchNormalization at 0x7fc83e70a9d0>,\n",
              " <keras.layers.convolutional.conv2d.Conv2D at 0x7fc83e70aa90>,\n",
              " <keras.layers.pooling.max_pooling2d.MaxPooling2D at 0x7fc83e70a190>,\n",
              " <keras.layers.normalization.batch_normalization.BatchNormalization at 0x7fc83e70f5b0>,\n",
              " <keras.layers.merging.add.Add at 0x7fc83e70f6a0>,\n",
              " <keras.layers.core.activation.Activation at 0x7fc83e70fb20>,\n",
              " <keras.layers.convolutional.separable_conv2d.SeparableConv2D at 0x7fc83e70fb80>,\n",
              " <keras.layers.normalization.batch_normalization.BatchNormalization at 0x7fc83e7164c0>,\n",
              " <keras.layers.core.activation.Activation at 0x7fc83e716400>,\n",
              " <keras.layers.convolutional.separable_conv2d.SeparableConv2D at 0x7fc83e716a00>,\n",
              " <keras.layers.normalization.batch_normalization.BatchNormalization at 0x7fc83e716580>,\n",
              " <keras.layers.core.activation.Activation at 0x7fc83e71a130>,\n",
              " <keras.layers.convolutional.separable_conv2d.SeparableConv2D at 0x7fc83e71a730>,\n",
              " <keras.layers.normalization.batch_normalization.BatchNormalization at 0x7fc83e71aee0>,\n",
              " <keras.layers.merging.add.Add at 0x7fc83e71afa0>,\n",
              " <keras.layers.core.activation.Activation at 0x7fc83e71f460>,\n",
              " <keras.layers.convolutional.separable_conv2d.SeparableConv2D at 0x7fc83e71f4c0>,\n",
              " <keras.layers.normalization.batch_normalization.BatchNormalization at 0x7fc83e71fdc0>,\n",
              " <keras.layers.core.activation.Activation at 0x7fc83e71fd00>,\n",
              " <keras.layers.convolutional.separable_conv2d.SeparableConv2D at 0x7fc83e71fe80>,\n",
              " <keras.layers.normalization.batch_normalization.BatchNormalization at 0x7fc83e6a5af0>,\n",
              " <keras.layers.core.activation.Activation at 0x7fc83e6a5a30>,\n",
              " <keras.layers.convolutional.separable_conv2d.SeparableConv2D at 0x7fc83e6a5fa0>,\n",
              " <keras.layers.normalization.batch_normalization.BatchNormalization at 0x7fc83e6a9880>,\n",
              " <keras.layers.merging.add.Add at 0x7fc83e6a9940>,\n",
              " <keras.layers.core.activation.Activation at 0x7fc83e6a9dc0>,\n",
              " <keras.layers.convolutional.separable_conv2d.SeparableConv2D at 0x7fc83e6ed430>,\n",
              " <keras.layers.normalization.batch_normalization.BatchNormalization at 0x7fc83e6ac700>,\n",
              " <keras.layers.core.activation.Activation at 0x7fc83e6ac640>,\n",
              " <keras.layers.convolutional.separable_conv2d.SeparableConv2D at 0x7fc83e6acc40>,\n",
              " <keras.layers.normalization.batch_normalization.BatchNormalization at 0x7fc83e6ac7c0>,\n",
              " <keras.layers.core.activation.Activation at 0x7fc83e6f63a0>,\n",
              " <keras.layers.convolutional.separable_conv2d.SeparableConv2D at 0x7fc83e6f69a0>,\n",
              " <keras.layers.normalization.batch_normalization.BatchNormalization at 0x7fc83e6f6520>,\n",
              " <keras.layers.merging.add.Add at 0x7fc83e6b2250>,\n",
              " <keras.layers.core.activation.Activation at 0x7fc83e6b26d0>,\n",
              " <keras.layers.convolutional.separable_conv2d.SeparableConv2D at 0x7fc83e6b2730>,\n",
              " <keras.layers.normalization.batch_normalization.BatchNormalization at 0x7fc83e6b2640>,\n",
              " <keras.layers.core.activation.Activation at 0x7fc83e6b7130>,\n",
              " <keras.layers.convolutional.separable_conv2d.SeparableConv2D at 0x7fc83e6b2f70>,\n",
              " <keras.layers.normalization.batch_normalization.BatchNormalization at 0x7fc83e6b7d60>,\n",
              " <keras.layers.core.activation.Activation at 0x7fc83e6b7ca0>,\n",
              " <keras.layers.convolutional.separable_conv2d.SeparableConv2D at 0x7fc83e6b7e20>,\n",
              " <keras.layers.normalization.batch_normalization.BatchNormalization at 0x7fc83e6bba90>,\n",
              " <keras.layers.merging.add.Add at 0x7fc83e6bbb50>,\n",
              " <keras.layers.core.activation.Activation at 0x7fc83e6bbfd0>,\n",
              " <keras.layers.convolutional.separable_conv2d.SeparableConv2D at 0x7fc83e6bbf40>,\n",
              " <keras.layers.normalization.batch_normalization.BatchNormalization at 0x7fc83e6bf970>,\n",
              " <keras.layers.core.activation.Activation at 0x7fc83e6bf8b0>,\n",
              " <keras.layers.convolutional.separable_conv2d.SeparableConv2D at 0x7fc83e6bfeb0>,\n",
              " <keras.layers.normalization.batch_normalization.BatchNormalization at 0x7fc83e6c56a0>,\n",
              " <keras.layers.core.activation.Activation at 0x7fc83e6c55e0>,\n",
              " <keras.layers.convolutional.separable_conv2d.SeparableConv2D at 0x7fc83e6c5be0>,\n",
              " <keras.layers.normalization.batch_normalization.BatchNormalization at 0x7fc83e6c5760>,\n",
              " <keras.layers.merging.add.Add at 0x7fc83e6ca490>,\n",
              " <keras.layers.core.activation.Activation at 0x7fc83e6ca910>,\n",
              " <keras.layers.convolutional.separable_conv2d.SeparableConv2D at 0x7fc83e6ca970>,\n",
              " <keras.layers.normalization.batch_normalization.BatchNormalization at 0x7fc83e6ca880>,\n",
              " <keras.layers.core.activation.Activation at 0x7fc83e6ce1f0>,\n",
              " <keras.layers.convolutional.separable_conv2d.SeparableConv2D at 0x7fc83e6ce7f0>,\n",
              " <keras.layers.normalization.batch_normalization.BatchNormalization at 0x7fc83e6cefa0>,\n",
              " <keras.layers.core.activation.Activation at 0x7fc83e6ce370>,\n",
              " <keras.layers.convolutional.separable_conv2d.SeparableConv2D at 0x7fc83e6ceee0>,\n",
              " <keras.layers.normalization.batch_normalization.BatchNormalization at 0x7fc83e6d3cd0>,\n",
              " <keras.layers.merging.add.Add at 0x7fc83e6d3d90>,\n",
              " <keras.layers.core.activation.Activation at 0x7fc83e6d9250>,\n",
              " <keras.layers.convolutional.separable_conv2d.SeparableConv2D at 0x7fc83e6d92b0>,\n",
              " <keras.layers.normalization.batch_normalization.BatchNormalization at 0x7fc83e6d9bb0>,\n",
              " <keras.layers.core.activation.Activation at 0x7fc83e6d9af0>,\n",
              " <keras.layers.convolutional.separable_conv2d.SeparableConv2D at 0x7fc83e6d9c70>,\n",
              " <keras.layers.normalization.batch_normalization.BatchNormalization at 0x7fc83e6de8e0>,\n",
              " <keras.layers.core.activation.Activation at 0x7fc83e6de820>,\n",
              " <keras.layers.convolutional.separable_conv2d.SeparableConv2D at 0x7fc83e6dee20>,\n",
              " <keras.layers.normalization.batch_normalization.BatchNormalization at 0x7fc83e662610>,\n",
              " <keras.layers.merging.add.Add at 0x7fc83e6626d0>,\n",
              " <keras.layers.core.activation.Activation at 0x7fc83e662b50>,\n",
              " <keras.layers.convolutional.separable_conv2d.SeparableConv2D at 0x7fc83e662bb0>,\n",
              " <keras.layers.normalization.batch_normalization.BatchNormalization at 0x7fc83e6684f0>,\n",
              " <keras.layers.core.activation.Activation at 0x7fc83e668430>,\n",
              " <keras.layers.convolutional.separable_conv2d.SeparableConv2D at 0x7fc83e668a30>,\n",
              " <keras.layers.normalization.batch_normalization.BatchNormalization at 0x7fc83e6685b0>,\n",
              " <keras.layers.core.activation.Activation at 0x7fc83e66d160>,\n",
              " <keras.layers.convolutional.separable_conv2d.SeparableConv2D at 0x7fc83e66d760>,\n",
              " <keras.layers.normalization.batch_normalization.BatchNormalization at 0x7fc83e66df10>,\n",
              " <keras.layers.merging.add.Add at 0x7fc83e66dfd0>,\n",
              " <keras.layers.core.activation.Activation at 0x7fc83e672490>,\n",
              " <keras.layers.convolutional.separable_conv2d.SeparableConv2D at 0x7fc83e6724f0>,\n",
              " <keras.layers.normalization.batch_normalization.BatchNormalization at 0x7fc83e672df0>,\n",
              " <keras.layers.core.activation.Activation at 0x7fc83e672d30>,\n",
              " <keras.layers.convolutional.separable_conv2d.SeparableConv2D at 0x7fc83e672eb0>,\n",
              " <keras.layers.normalization.batch_normalization.BatchNormalization at 0x7fc83e678b20>,\n",
              " <keras.layers.convolutional.conv2d.Conv2D at 0x7fc83e678be0>,\n",
              " <keras.layers.pooling.max_pooling2d.MaxPooling2D at 0x7fc83e6782e0>,\n",
              " <keras.layers.normalization.batch_normalization.BatchNormalization at 0x7fc83e67d700>,\n",
              " <keras.layers.merging.add.Add at 0x7fc83e67d7f0>,\n",
              " <keras.layers.convolutional.separable_conv2d.SeparableConv2D at 0x7fc83e67dbe0>,\n",
              " <keras.layers.normalization.batch_normalization.BatchNormalization at 0x7fc83e67dc40>,\n",
              " <keras.layers.core.activation.Activation at 0x7fc83e6823a0>,\n",
              " <keras.layers.convolutional.separable_conv2d.SeparableConv2D at 0x7fc83e6829a0>,\n",
              " <keras.layers.normalization.batch_normalization.BatchNormalization at 0x7fc83e682520>,\n",
              " <keras.layers.core.activation.Activation at 0x7fc83e6860d0>,\n",
              " <keras.layers.pooling.global_average_pooling2d.GlobalAveragePooling2D at 0x7fc83e686640>,\n",
              " <keras.layers.core.dense.Dense at 0x7fc83e686910>]"
            ]
          },
          "metadata": {},
          "execution_count": 7
        }
      ]
    },
    {
      "cell_type": "code",
      "source": [
        "len(model_FineTune.layers)"
      ],
      "metadata": {
        "id": "Nf_x_QHxW2og",
        "colab": {
          "base_uri": "https://localhost:8080/"
        },
        "outputId": "a63a5870-cf2c-46f6-9167-a738e8221f14"
      },
      "execution_count": 8,
      "outputs": [
        {
          "output_type": "execute_result",
          "data": {
            "text/plain": [
              "134"
            ]
          },
          "metadata": {},
          "execution_count": 8
        }
      ]
    },
    {
      "cell_type": "code",
      "source": [
        "# Fine-tune the model from index 60 onwards\n",
        "\n",
        "for layer in model_FineTune.layers[:60]:\n",
        "  layer.trainable = False\n",
        "\n",
        "for layer in model_FineTune.layers[60:]:\n",
        "  layer.trainable = True"
      ],
      "metadata": {
        "id": "9ks6g-aZW2rw"
      },
      "execution_count": 9,
      "outputs": []
    },
    {
      "cell_type": "code",
      "source": [
        "model_FineTune.compile(loss='sparse_categorical_crossentropy', \n",
        "                 optimizer='adam', \n",
        "                 metrics=['accuracy'])\n",
        "\n",
        "callbacks_FineTune = [            \n",
        "             keras.callbacks.ModelCheckpoint(\"bestFT.h5\",\n",
        "                                             monitor='val_accuracy',\n",
        "                                             save_weights_only=True,\n",
        "                                             save_best_only=True)\n",
        "]\n",
        "\n",
        "history_FineTune = model_FineTune.fit(x = X_train_std, y = y_train, epochs=50,\n",
        "                                      validation_split=0.1, batch_size=16, callbacks=callbacks_FineTune)"
      ],
      "metadata": {
        "id": "Jmb50WxGW2uw",
        "colab": {
          "base_uri": "https://localhost:8080/"
        },
        "outputId": "043bf0aa-30ba-4344-d500-c42bb09873de"
      },
      "execution_count": 10,
      "outputs": [
        {
          "output_type": "stream",
          "name": "stdout",
          "text": [
            "Epoch 1/50\n",
            "23/23 [==============================] - 20s 338ms/step - loss: 0.3485 - accuracy: 0.9000 - val_loss: 1.7999 - val_accuracy: 0.8000\n",
            "Epoch 2/50\n",
            "23/23 [==============================] - 6s 242ms/step - loss: 0.1545 - accuracy: 0.9528 - val_loss: 9.2450 - val_accuracy: 0.4250\n",
            "Epoch 3/50\n",
            "23/23 [==============================] - 6s 242ms/step - loss: 0.1090 - accuracy: 0.9667 - val_loss: 2.0608 - val_accuracy: 0.7500\n",
            "Epoch 4/50\n",
            "23/23 [==============================] - 6s 245ms/step - loss: 0.1681 - accuracy: 0.9444 - val_loss: 3.5767 - val_accuracy: 0.6000\n",
            "Epoch 5/50\n",
            "23/23 [==============================] - 6s 244ms/step - loss: 0.1386 - accuracy: 0.9694 - val_loss: 2.6290 - val_accuracy: 0.6500\n",
            "Epoch 6/50\n",
            "23/23 [==============================] - 6s 246ms/step - loss: 0.1602 - accuracy: 0.9556 - val_loss: 0.6534 - val_accuracy: 0.7750\n",
            "Epoch 7/50\n",
            "23/23 [==============================] - 6s 244ms/step - loss: 0.1564 - accuracy: 0.9639 - val_loss: 1.0619 - val_accuracy: 0.7500\n",
            "Epoch 8/50\n",
            "23/23 [==============================] - 6s 245ms/step - loss: 0.0771 - accuracy: 0.9833 - val_loss: 0.7747 - val_accuracy: 0.7750\n",
            "Epoch 9/50\n",
            "23/23 [==============================] - 6s 247ms/step - loss: 0.0827 - accuracy: 0.9778 - val_loss: 1.3013 - val_accuracy: 0.6500\n",
            "Epoch 10/50\n",
            "23/23 [==============================] - 6s 246ms/step - loss: 0.1113 - accuracy: 0.9667 - val_loss: 1.8070 - val_accuracy: 0.6750\n",
            "Epoch 11/50\n",
            "23/23 [==============================] - 6s 248ms/step - loss: 0.2103 - accuracy: 0.9528 - val_loss: 2.5761 - val_accuracy: 0.6750\n",
            "Epoch 12/50\n",
            "23/23 [==============================] - 6s 247ms/step - loss: 0.1356 - accuracy: 0.9583 - val_loss: 2.5141 - val_accuracy: 0.6500\n",
            "Epoch 13/50\n",
            "23/23 [==============================] - 6s 250ms/step - loss: 0.0974 - accuracy: 0.9611 - val_loss: 1.9690 - val_accuracy: 0.6250\n",
            "Epoch 14/50\n",
            "23/23 [==============================] - 6s 263ms/step - loss: 0.0686 - accuracy: 0.9667 - val_loss: 0.5542 - val_accuracy: 0.8500\n",
            "Epoch 15/50\n",
            "23/23 [==============================] - 6s 251ms/step - loss: 0.1078 - accuracy: 0.9861 - val_loss: 0.7800 - val_accuracy: 0.8000\n",
            "Epoch 16/50\n",
            "23/23 [==============================] - 6s 251ms/step - loss: 0.0840 - accuracy: 0.9694 - val_loss: 1.1121 - val_accuracy: 0.8000\n",
            "Epoch 17/50\n",
            "23/23 [==============================] - 6s 250ms/step - loss: 0.0250 - accuracy: 0.9944 - val_loss: 0.8124 - val_accuracy: 0.7500\n",
            "Epoch 18/50\n",
            "23/23 [==============================] - 6s 252ms/step - loss: 0.1233 - accuracy: 0.9639 - val_loss: 1.1752 - val_accuracy: 0.7500\n",
            "Epoch 19/50\n",
            "23/23 [==============================] - 6s 251ms/step - loss: 0.0771 - accuracy: 0.9750 - val_loss: 0.6143 - val_accuracy: 0.8000\n",
            "Epoch 20/50\n",
            "23/23 [==============================] - 6s 252ms/step - loss: 0.0198 - accuracy: 0.9944 - val_loss: 0.6277 - val_accuracy: 0.8250\n",
            "Epoch 21/50\n",
            "23/23 [==============================] - 6s 251ms/step - loss: 0.0131 - accuracy: 0.9972 - val_loss: 0.6001 - val_accuracy: 0.8000\n",
            "Epoch 22/50\n",
            "23/23 [==============================] - 6s 254ms/step - loss: 0.0045 - accuracy: 1.0000 - val_loss: 0.6556 - val_accuracy: 0.8000\n",
            "Epoch 23/50\n",
            "23/23 [==============================] - 6s 252ms/step - loss: 0.0029 - accuracy: 1.0000 - val_loss: 0.5968 - val_accuracy: 0.8000\n",
            "Epoch 24/50\n",
            "23/23 [==============================] - 6s 253ms/step - loss: 0.0154 - accuracy: 0.9944 - val_loss: 0.6473 - val_accuracy: 0.7750\n",
            "Epoch 25/50\n",
            "23/23 [==============================] - 6s 254ms/step - loss: 0.0483 - accuracy: 0.9889 - val_loss: 0.6488 - val_accuracy: 0.8000\n",
            "Epoch 26/50\n",
            "23/23 [==============================] - 6s 253ms/step - loss: 0.0125 - accuracy: 0.9972 - val_loss: 0.7047 - val_accuracy: 0.7500\n",
            "Epoch 27/50\n",
            "23/23 [==============================] - 6s 255ms/step - loss: 0.0155 - accuracy: 0.9944 - val_loss: 0.8294 - val_accuracy: 0.7750\n",
            "Epoch 28/50\n",
            "23/23 [==============================] - 6s 256ms/step - loss: 0.0196 - accuracy: 0.9917 - val_loss: 0.7657 - val_accuracy: 0.6500\n",
            "Epoch 29/50\n",
            "23/23 [==============================] - 6s 255ms/step - loss: 0.0844 - accuracy: 0.9806 - val_loss: 2.3544 - val_accuracy: 0.7750\n",
            "Epoch 30/50\n",
            "23/23 [==============================] - 6s 253ms/step - loss: 0.0213 - accuracy: 0.9944 - val_loss: 0.8258 - val_accuracy: 0.8000\n",
            "Epoch 31/50\n",
            "23/23 [==============================] - 6s 256ms/step - loss: 0.0252 - accuracy: 0.9917 - val_loss: 0.8330 - val_accuracy: 0.8000\n",
            "Epoch 32/50\n",
            "23/23 [==============================] - 6s 255ms/step - loss: 0.0289 - accuracy: 0.9861 - val_loss: 1.4383 - val_accuracy: 0.7250\n",
            "Epoch 33/50\n",
            "23/23 [==============================] - 6s 255ms/step - loss: 0.0406 - accuracy: 0.9917 - val_loss: 1.2269 - val_accuracy: 0.7250\n",
            "Epoch 34/50\n",
            "23/23 [==============================] - 6s 256ms/step - loss: 0.0243 - accuracy: 0.9917 - val_loss: 1.2546 - val_accuracy: 0.7250\n",
            "Epoch 35/50\n",
            "23/23 [==============================] - 6s 255ms/step - loss: 0.0308 - accuracy: 0.9889 - val_loss: 0.7794 - val_accuracy: 0.8000\n",
            "Epoch 36/50\n",
            "23/23 [==============================] - 6s 257ms/step - loss: 0.0339 - accuracy: 0.9917 - val_loss: 0.6271 - val_accuracy: 0.8000\n",
            "Epoch 37/50\n",
            "23/23 [==============================] - 6s 255ms/step - loss: 0.0048 - accuracy: 0.9972 - val_loss: 0.6104 - val_accuracy: 0.8000\n",
            "Epoch 38/50\n",
            "23/23 [==============================] - 6s 258ms/step - loss: 0.0081 - accuracy: 1.0000 - val_loss: 0.7844 - val_accuracy: 0.7750\n",
            "Epoch 39/50\n",
            "23/23 [==============================] - 6s 255ms/step - loss: 0.0062 - accuracy: 0.9972 - val_loss: 0.7012 - val_accuracy: 0.7500\n",
            "Epoch 40/50\n",
            "23/23 [==============================] - 6s 256ms/step - loss: 0.0060 - accuracy: 0.9972 - val_loss: 1.4257 - val_accuracy: 0.7500\n",
            "Epoch 41/50\n",
            "23/23 [==============================] - 6s 255ms/step - loss: 0.0081 - accuracy: 1.0000 - val_loss: 0.9162 - val_accuracy: 0.8000\n",
            "Epoch 42/50\n",
            "23/23 [==============================] - 6s 256ms/step - loss: 0.0062 - accuracy: 0.9972 - val_loss: 0.7810 - val_accuracy: 0.8000\n",
            "Epoch 43/50\n",
            "23/23 [==============================] - 6s 258ms/step - loss: 0.0105 - accuracy: 0.9944 - val_loss: 0.6817 - val_accuracy: 0.7750\n",
            "Epoch 44/50\n",
            "23/23 [==============================] - 6s 255ms/step - loss: 0.0230 - accuracy: 0.9944 - val_loss: 0.6617 - val_accuracy: 0.7750\n",
            "Epoch 45/50\n",
            "23/23 [==============================] - 6s 257ms/step - loss: 0.0354 - accuracy: 0.9861 - val_loss: 0.7414 - val_accuracy: 0.7750\n",
            "Epoch 46/50\n",
            "23/23 [==============================] - 6s 256ms/step - loss: 0.0319 - accuracy: 0.9917 - val_loss: 0.6176 - val_accuracy: 0.8000\n",
            "Epoch 47/50\n",
            "23/23 [==============================] - 6s 258ms/step - loss: 0.0371 - accuracy: 0.9861 - val_loss: 1.0969 - val_accuracy: 0.7500\n",
            "Epoch 48/50\n",
            "23/23 [==============================] - 6s 256ms/step - loss: 0.0475 - accuracy: 0.9833 - val_loss: 0.5638 - val_accuracy: 0.8250\n",
            "Epoch 49/50\n",
            "23/23 [==============================] - 6s 257ms/step - loss: 0.0150 - accuracy: 0.9944 - val_loss: 0.4018 - val_accuracy: 0.8500\n",
            "Epoch 50/50\n",
            "23/23 [==============================] - 6s 271ms/step - loss: 0.0054 - accuracy: 0.9972 - val_loss: 0.3394 - val_accuracy: 0.9000\n"
          ]
        }
      ]
    },
    {
      "cell_type": "code",
      "source": [
        "keys = ['accuracy', 'val_accuracy']\n",
        "progress = {k:v for k,v in history_FineTune.history.items() if k in keys}\n",
        "\n",
        "import pandas as pd\n",
        "pd.DataFrame(progress).plot()\n",
        "\n",
        "plt.xlabel(\"epochs\")\n",
        "plt.ylabel(\"accuracy\")\n",
        "\n",
        "plt.grid(True)\n",
        "plt.show()"
      ],
      "metadata": {
        "id": "TnnThVFXW2xw",
        "colab": {
          "base_uri": "https://localhost:8080/",
          "height": 279
        },
        "outputId": "d7e06b55-fd49-42c2-a181-fe067f9f0722"
      },
      "execution_count": 11,
      "outputs": [
        {
          "output_type": "display_data",
          "data": {
            "text/plain": [
              "<Figure size 432x288 with 1 Axes>"
            ],
            "image/png": "[encoded data removed]"
          },
          "metadata": {
            "needs_background": "light"
          }
        }
      ]
    },
    {
      "cell_type": "code",
      "source": [
        "testLoss_FineTune, testAccuracy_FineTune = model_FineTune.evaluate(x = X_test_std, y = y_test)\n",
        "print(\"Test-loss: %f, Test-accuracy: %f\" % (testLoss_FineTune, testAccuracy_FineTune))"
      ],
      "metadata": {
        "id": "Vd-V5zfiW20_",
        "colab": {
          "base_uri": "https://localhost:8080/"
        },
        "outputId": "b1d11fbb-ea71-4b4b-f480-47f683358068"
      },
      "execution_count": 12,
      "outputs": [
        {
          "output_type": "stream",
          "name": "stdout",
          "text": [
            "4/4 [==============================] - 2s 272ms/step - loss: 0.4463 - accuracy: 0.8400\n",
            "Test-loss: 0.446266, Test-accuracy: 0.840000\n"
          ]
        }
      ]
    },
    {
      "cell_type": "code",
      "source": [
        "model_FineTune.load_weights(\"bestFT.h5\")\n",
        "\n",
        "testLoss_FineTune, testAccuracy_FineTune = model_FineTune.evaluate(x = X_test_std, y = y_test)\n",
        "\n",
        "print(\"Test-loss: %f, Test-accuracy: %f\" % (testLoss_FineTune, testAccuracy_FineTune))"
      ],
      "metadata": {
        "id": "KqcFBRCvW24H",
        "colab": {
          "base_uri": "https://localhost:8080/"
        },
        "outputId": "adf19e1c-36e4-464a-9e78-2d35fbeba679"
      },
      "execution_count": 13,
      "outputs": [
        {
          "output_type": "stream",
          "name": "stdout",
          "text": [
            "4/4 [==============================] - 1s 165ms/step - loss: 0.4463 - accuracy: 0.8400\n",
            "Test-loss: 0.446266, Test-accuracy: 0.840000\n"
          ]
        }
      ]
    },
    {
      "cell_type": "code",
      "source": [
        "cProba = model_FineTune.predict(X_test_std[:10])\n",
        "\n",
        "print(cProba)"
      ],
      "metadata": {
        "id": "3KT3R_cTW26_",
        "colab": {
          "base_uri": "https://localhost:8080/"
        },
        "outputId": "9281ebe0-33d9-4125-87aa-406494e5ea76"
      },
      "execution_count": 16,
      "outputs": [
        {
          "output_type": "stream",
          "name": "stdout",
          "text": [
            "1/1 [==============================] - 1s 662ms/step\n",
            "[[1.79282818e-02 6.74900599e-03 9.67667818e-01 1.94574276e-03\n",
            "  5.70920203e-03]\n",
            " [1.10477239e-01 4.41305339e-01 2.73722768e-01 8.01667050e-02\n",
            "  9.43279713e-02]\n",
            " [1.41868180e-13 2.44155689e-13 9.99999523e-01 4.89669139e-11\n",
            "  4.63973947e-07]\n",
            " [3.06989282e-01 6.92090154e-01 8.41247616e-04 4.25417675e-05\n",
            "  3.67960492e-05]\n",
            " [1.00000000e+00 5.47863070e-15 5.60520785e-18 3.00291957e-18\n",
            "  1.03122239e-18]\n",
            " [8.10919119e-06 1.05576639e-07 6.23782626e-08 9.99991179e-01\n",
            "  5.05353341e-07]\n",
            " [2.16569492e-06 9.99997258e-01 1.21539037e-08 5.28005273e-07\n",
            "  1.62158253e-09]\n",
            " [1.02734719e-08 4.67992471e-08 9.99949217e-01 1.08136405e-07\n",
            "  5.06722972e-05]\n",
            " [1.32208865e-03 4.27525118e-02 1.25946547e-03 9.54245269e-01\n",
            "  4.20636206e-04]\n",
            " [3.94412427e-06 6.39698119e-05 6.25330269e-01 1.05263192e-04\n",
            "  3.74496520e-01]]\n"
          ]
        }
      ]
    },
    {
      "cell_type": "code",
      "source": [
        "cLabel = np.argmax(cProba, axis=-1) \n",
        "\n",
        "print(cLabel)"
      ],
      "metadata": {
        "id": "peWCXaqsW29g",
        "colab": {
          "base_uri": "https://localhost:8080/"
        },
        "outputId": "36e7085e-21aa-4e58-ccb2-cad3603931f4"
      },
      "execution_count": 17,
      "outputs": [
        {
          "output_type": "stream",
          "name": "stdout",
          "text": [
            "[2 1 2 1 0 3 1 2 3 2]\n"
          ]
        }
      ]
    },
    {
      "cell_type": "code",
      "source": [
        "print(y_test[:10])"
      ],
      "metadata": {
        "id": "Ra_kCNJYXgAK",
        "colab": {
          "base_uri": "https://localhost:8080/"
        },
        "outputId": "33e797db-60b4-4137-d309-a8c45c77bf60"
      },
      "execution_count": 19,
      "outputs": [
        {
          "output_type": "stream",
          "name": "stdout",
          "text": [
            "[2 3 2 0 0 3 1 2 3 4]\n"
          ]
        }
      ]
    },
    {
      "cell_type": "code",
      "source": [
        "# Saves the best model obtained\n",
        "model_FineTune.save('/content/drive/MyDrive/DeepLearning/TransferLearning/Models/02_Xception_FineTuned_Best_Model.h5')"
      ],
      "metadata": {
        "id": "RdEwjo_oXgC4"
      },
      "execution_count": 20,
      "outputs": []
    },
    {
      "cell_type": "code",
      "source": [],
      "metadata": {
        "id": "4hbZz-CxXgFf"
      },
      "execution_count": null,
      "outputs": []
    }
  ]
}